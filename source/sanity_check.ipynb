{
  "cells": [
    {
      "cell_type": "markdown",
      "metadata": {
        "id": "view-in-github",
        "colab_type": "text"
      },
      "source": [
        "<a href=\"https://colab.research.google.com/github/DingfanChen/GS-WGAN/blob/main/source/sanity_check.ipynb\" target=\"_parent\"><img src=\"https://colab.research.google.com/assets/colab-badge.svg\" alt=\"Open In Colab\"/></a>"
      ]
    },
    {
      "cell_type": "code",
      "execution_count": 1,
      "metadata": {
        "id": "MRSeGaX4JAZn"
      },
      "outputs": [],
      "source": [
        "import numpy as np\n",
        "import torch\n",
        "import torch.nn as nn\n",
        "import random\n",
        "import torch.optim as optim"
      ]
    },
    {
      "cell_type": "code",
      "execution_count": 2,
      "metadata": {
        "id": "4QBjo07RJAZq"
      },
      "outputs": [],
      "source": [
        "### Toy single layer\n",
        "class toy_single(nn.Module):\n",
        "    def __init__(self, operation, constant):\n",
        "        super(toy_single, self).__init__()\n",
        "        self.operation = operation\n",
        "        self.constant = constant\n",
        "\n",
        "    def forward(self, input):\n",
        "        if self.operation == 'add':\n",
        "            self.output = input + self.constant\n",
        "\n",
        "        elif self.operation == 'mul': # pointwise-mulipication\n",
        "            self.output = input * self.constant\n",
        "        return self.output"
      ]
    },
    {
      "cell_type": "markdown",
      "metadata": {
        "id": "HNwc3PbkJAZr"
      },
      "source": [
        "### hook functions"
      ]
    },
    {
      "cell_type": "code",
      "execution_count": 3,
      "metadata": {
        "id": "hMqc7dM_JAZs"
      },
      "outputs": [],
      "source": [
        "def dynamic_hook_module(module,grad_input,grad_output):\n",
        "    global global_backward_hook\n",
        "    return global_backward_hook(module, grad_input, grad_output)"
      ]
    },
    {
      "cell_type": "code",
      "execution_count": 4,
      "metadata": {
        "id": "b18N_gV4JAZt"
      },
      "outputs": [],
      "source": [
        "def printgrad_module(module, grad_input, grad_output):\n",
        "    print('-------print grad enabled--------')\n",
        "    print(grad_input)"
      ]
    },
    {
      "cell_type": "code",
      "execution_count": 5,
      "metadata": {
        "id": "iNvB9wekJAZt"
      },
      "outputs": [],
      "source": [
        "def dummygrad_module(module, grad_input, grad_output):\n",
        "    pass"
      ]
    },
    {
      "cell_type": "code",
      "execution_count": 6,
      "metadata": {
        "id": "IuR0ybn1JAZu"
      },
      "outputs": [],
      "source": [
        "def modifygradnorm_module(module,grad_input, grad_output):\n",
        "    global target_norm\n",
        "    grad_input_shape = grad_input[0].size()\n",
        "    bs = grad_input[0].size()[0]\n",
        "    grad_input_ = grad_input[0].view(bs,-1)\n",
        "    grad_input_norm = torch.norm(grad_input_,p=2,dim=-1)\n",
        "    clip_coef = target_norm / (grad_input_norm + 1e-6)  \n",
        "    clip_coef = clip_coef.unsqueeze(-1)\n",
        "    grad_input_ = clip_coef*grad_input_\n",
        "    print('-------modify gradnorm enabled--------')\n",
        "    print(grad_input)\n",
        "    grad_input = (grad_input_.view(grad_input_shape),grad_input[1])\n",
        "    print('grad_input norm:', torch.norm(grad_input_,p=2,dim=-1))\n",
        "    return tuple(grad_input)"
      ]
    },
    {
      "cell_type": "markdown",
      "metadata": {
        "id": "aPBKgNLpJAZu"
      },
      "source": [
        "### Example (dummy hook)"
      ]
    },
    {
      "cell_type": "code",
      "execution_count": 7,
      "metadata": {
        "colab": {
          "base_uri": "https://localhost:8080/"
        },
        "id": "6kFLKg9nJAZv",
        "outputId": "d882514b-62a5-498f-f356-6ba9da85a48f"
      },
      "outputs": [
        {
          "output_type": "stream",
          "name": "stderr",
          "text": [
            "/usr/local/lib/python3.7/dist-packages/torch/nn/modules/module.py:1053: UserWarning: Using a non-full backward hook when the forward contains multiple autograd Nodes is deprecated and will be removed in future versions. This hook will be missing some grad_input. Please use register_full_backward_hook to get the documented behavior.\n",
            "  warnings.warn(\"Using a non-full backward hook when the forward contains multiple autograd Nodes \"\n"
          ]
        }
      ],
      "source": [
        "## construct a toy 'Generator'\n",
        "z = torch.tensor([[1,1,1.5],[2,2,2.5],[-1,-1,-1.5]])  # dim0(sample idx), dim1(feature idx)\n",
        "weights_1 = torch.tensor([1.,-1.,1.])\n",
        "bias_1 = torch.tensor([0,1.,1.])\n",
        "z.requires_grad = True\n",
        "weights_1.requires_grad=True\n",
        "bias_1.requires_grad=True\n",
        "G_layer1 = toy_single('mul',weights_1)\n",
        "G_layer2 = toy_single('add',bias_1)\n",
        "G_layer1.register_backward_hook(dummygrad_module)\n",
        "G_layer2.register_backward_hook(dummygrad_module)\n",
        "G_out = G_layer2(G_layer1(z))\n",
        "optimizerG = optim.SGD([weights_1,bias_1], lr=0.5)\n",
        "\n",
        "## construct a toy 'Discriminator'\n",
        "d_param_1 = torch.tensor(2.)\n",
        "d_param_2 = torch.tensor([-2.,2.,1.])\n",
        "d_param_3 = torch.tensor(-1.)\n",
        "D_layer1 = toy_single('add', d_param_1)\n",
        "D_layer2 = toy_single('mul', d_param_2)\n",
        "D_layer3 = toy_single('mul', d_param_3)\n",
        "D_layer2.register_backward_hook(dummygrad_module)\n",
        "D_layer3.register_backward_hook(dummygrad_module)\n",
        "D_layer1.register_backward_hook(dynamic_hook_module)\n",
        "D_out = D_layer3(D_layer2(D_layer1(G_out)))\n",
        "global_backward_hook = printgrad_module"
      ]
    },
    {
      "cell_type": "code",
      "execution_count": 8,
      "metadata": {
        "colab": {
          "base_uri": "https://localhost:8080/"
        },
        "id": "UOziaZ9aJAZw",
        "outputId": "d5d3e3b0-632e-4313-fb65-0933c3697124"
      },
      "outputs": [
        {
          "output_type": "stream",
          "name": "stdout",
          "text": [
            "False\n",
            "False\n",
            "False\n"
          ]
        }
      ],
      "source": [
        "### check d_param status\n",
        "print(d_param_1.requires_grad)\n",
        "print(d_param_2.requires_grad)\n",
        "print(d_param_3.requires_grad)"
      ]
    },
    {
      "cell_type": "code",
      "execution_count": 9,
      "metadata": {
        "colab": {
          "base_uri": "https://localhost:8080/"
        },
        "id": "XPmaR3exJAZx",
        "outputId": "27d41998-1e4e-4fa0-8341-7606ab2b20f2"
      },
      "outputs": [
        {
          "output_type": "stream",
          "name": "stdout",
          "text": [
            "-------print grad enabled--------\n",
            "(tensor([[ 0.2222, -0.2222, -0.1111],\n",
            "        [ 0.2222, -0.2222, -0.1111],\n",
            "        [ 0.2222, -0.2222, -0.1111]]), None)\n",
            "============grad============\n",
            "tensor([ 0.4444, -0.4444, -0.2778]) tensor([ 0.6667, -0.6667, -0.3333])\n",
            "============value(before)===========\n",
            "tensor([ 1., -1.,  1.], requires_grad=True) tensor([0., 1., 1.], requires_grad=True)\n",
            "============value(after)===========\n",
            "tensor([ 0.7778, -0.7778,  1.1389], requires_grad=True) tensor([-0.3333,  1.3333,  1.1667], requires_grad=True)\n"
          ]
        }
      ],
      "source": [
        "### check gradients on leaf nodes\n",
        "D_out.mean().backward()\n",
        "print('============grad============')\n",
        "print(weights_1.grad, bias_1.grad)\n",
        "print('============value(before)===========')\n",
        "print(weights_1,bias_1)\n",
        "optimizerG.step()\n",
        "print('============value(after)===========')\n",
        "print(weights_1,bias_1)"
      ]
    },
    {
      "cell_type": "markdown",
      "metadata": {
        "id": "3VjKvq21JAZx"
      },
      "source": [
        "### Example (modify grad_norm)"
      ]
    },
    {
      "cell_type": "code",
      "execution_count": 10,
      "metadata": {
        "id": "tWvPaDx5JAZy"
      },
      "outputs": [],
      "source": [
        "## construct a toy 'Generator'\n",
        "z = torch.tensor([[1,1,1.5],[2,2,2.5],[-1,-1,-1.5]])\n",
        "weights_1 = torch.tensor([1.,-1.,1.])\n",
        "bias_1 = torch.tensor([0,1.,1.])\n",
        "z.requires_grad = True\n",
        "weights_1.requires_grad=True\n",
        "bias_1.requires_grad=True\n",
        "G_layer1 = toy_single('mul',weights_1)\n",
        "G_layer2 = toy_single('add',bias_1)\n",
        "G_layer1.register_backward_hook(dummygrad_module)\n",
        "G_layer2.register_backward_hook(dummygrad_module)\n",
        "G_out = G_layer2(G_layer1(z))  # G_out is the toy 'generated samples'\n",
        "optimizerG = optim.SGD([weights_1,bias_1], lr=0.5)\n",
        "\n",
        "## construct a toy 'Discriminator'\n",
        "d_param_1 = torch.tensor(2.)\n",
        "d_param_2 = torch.tensor([-2.,2.,1.])\n",
        "d_param_3 = torch.tensor(-1.)\n",
        "D_layer1 = toy_single('add', d_param_1)\n",
        "D_layer2 = toy_single('mul', d_param_2)\n",
        "D_layer3 = toy_single('mul', d_param_3)\n",
        "D_layer2.register_backward_hook(dummygrad_module)\n",
        "D_layer3.register_backward_hook(dummygrad_module)\n",
        "D_layer1.register_backward_hook(dynamic_hook_module)\n",
        "D_out = D_layer3(D_layer2(D_layer1(G_out))) # D_out mimics the score\n",
        "\n",
        "## modify the grad_norm\n",
        "target_norm = 1.\n",
        "global_backward_hook = modifygradnorm_module"
      ]
    },
    {
      "cell_type": "code",
      "execution_count": 11,
      "metadata": {
        "colab": {
          "base_uri": "https://localhost:8080/"
        },
        "id": "xrk2xne4JAZy",
        "outputId": "d46941ae-8233-4954-d70e-db2ccfafa8c1"
      },
      "outputs": [
        {
          "output_type": "stream",
          "name": "stdout",
          "text": [
            "False\n",
            "False\n",
            "False\n"
          ]
        }
      ],
      "source": [
        "### check d_param status\n",
        "print(d_param_1.requires_grad)\n",
        "print(d_param_2.requires_grad)\n",
        "print(d_param_3.requires_grad)"
      ]
    },
    {
      "cell_type": "code",
      "execution_count": 12,
      "metadata": {
        "colab": {
          "base_uri": "https://localhost:8080/"
        },
        "id": "Mq9SGWhcJAZz",
        "outputId": "59497776-1181-44d5-9f5d-6ea9c86e1595"
      },
      "outputs": [
        {
          "output_type": "stream",
          "name": "stdout",
          "text": [
            "-------modify gradnorm enabled--------\n",
            "(tensor([[ 0.2222, -0.2222, -0.1111],\n",
            "        [ 0.2222, -0.2222, -0.1111],\n",
            "        [ 0.2222, -0.2222, -0.1111]]), None)\n",
            "grad_input norm: tensor([1.0000, 1.0000, 1.0000])\n",
            "============grad============\n",
            "tensor([ 1.3333, -1.3333, -0.8333]) tensor([ 2.0000, -2.0000, -1.0000])\n",
            "============value(before)===========\n",
            "tensor([ 1., -1.,  1.], requires_grad=True) tensor([0., 1., 1.], requires_grad=True)\n",
            "============value(after)===========\n",
            "tensor([ 0.3333, -0.3333,  1.4167], requires_grad=True) tensor([-1.0000,  2.0000,  1.5000], requires_grad=True)\n"
          ]
        }
      ],
      "source": [
        "### check gradients on leaf nodes\n",
        "D_out.mean().backward()\n",
        "print('============grad============')\n",
        "print(weights_1.grad, bias_1.grad)\n",
        "print('============value(before)===========')\n",
        "print(weights_1,bias_1)\n",
        "optimizerG.step()\n",
        "print('============value(after)===========')\n",
        "print(weights_1,bias_1)"
      ]
    }
  ],
  "metadata": {
    "kernelspec": {
      "display_name": "both",
      "language": "python",
      "name": "both"
    },
    "language_info": {
      "codemirror_mode": {
        "name": "ipython",
        "version": 3
      },
      "file_extension": ".py",
      "mimetype": "text/x-python",
      "name": "python",
      "nbconvert_exporter": "python",
      "pygments_lexer": "ipython3",
      "version": "3.6.10"
    },
    "colab": {
      "provenance": [],
      "collapsed_sections": [],
      "include_colab_link": true
    }
  },
  "nbformat": 4,
  "nbformat_minor": 0
}