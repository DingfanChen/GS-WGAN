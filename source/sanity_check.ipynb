{
  "cells": [
    {
      "cell_type": "markdown",
      "metadata": {
        "id": "view-in-github",
        "colab_type": "text"
      },
      "source": [
        "<a href=\"https://colab.research.google.com/github/DingfanChen/GS-WGAN/blob/main/source/sanity_check.ipynb\" target=\"_parent\"><img src=\"https://colab.research.google.com/assets/colab-badge.svg\" alt=\"Open In Colab\"/></a>"
      ]
    },
    {
      "cell_type": "code",
      "execution_count": 1,
      "metadata": {
        "id": "MRSeGaX4JAZn"
      },
      "outputs": [],
      "source": [
        "import numpy as np\n",
        "import torch\n",
        "import torch.nn as nn\n",
        "import random\n",
        "import torch.optim as optim"
      ]
    },
    {
      "cell_type": "code",
      "execution_count": 2,
      "metadata": {
        "id": "4QBjo07RJAZq"
      },
      "outputs": [],
      "source": [
        "### Toy single layer\n",
        "class toy_single(nn.Module):\n",
        "    def __init__(self, operation, constant):\n",
        "        super(toy_single, self).__init__()\n",
        "        self.operation = operation\n",
        "        self.constant = constant\n",
        "\n",
        "    def forward(self, input):\n",
        "        if self.operation == 'add':\n",
        "            self.output = input + self.constant\n",
        "\n",
        "        elif self.operation == 'mul': # pointwise-mulipication\n",
        "            self.output = input * self.constant\n",
        "        return self.output"
      ]
    },
    {
      "cell_type": "markdown",
      "metadata": {
        "id": "HNwc3PbkJAZr"
      },
      "source": [
        "### hook functions"
      ]
    },
    {
      "cell_type": "code",
      "execution_count": 3,
      "metadata": {
        "id": "hMqc7dM_JAZs"
      },
      "outputs": [],
      "source": [
        "def dynamic_hook_module(module,grad_input,grad_output):\n",
        "    global global_backward_hook\n",
        "    return global_backward_hook(module, grad_input, grad_output)"
      ]
    },
    {
      "cell_type": "code",
      "execution_count": 4,
      "metadata": {
        "id": "b18N_gV4JAZt"
      },
      "outputs": [],
      "source": [
        "def printgrad_module(module, grad_input, grad_output):\n",
        "    print('-------print grad enabled--------')\n",
        "    print(grad_input)"
      ]
    },
    {
      "cell_type": "code",
      "execution_count": 5,
      "metadata": {
        "id": "iNvB9wekJAZt"
      },
      "outputs": [],
      "source": [
        "def dummygrad_module(module, grad_input, grad_output):\n",
        "    pass"
      ]
    },
    {
      "cell_type": "code",
      "execution_count": 6,
      "metadata": {
        "id": "IuR0ybn1JAZu"
      },
      "outputs": [],
      "source": [
        "def modifygradnorm_module(module,grad_input, grad_output):\n",
        "    global target_norm\n",
        "    grad_input_shape = grad_input[0].size()\n",
        "    bs = grad_input[0].size()[0]\n",
        "    grad_input_ = grad_input[0].view(bs,-1)\n",
        "    grad_input_norm = torch.norm(grad_input_,p=2,dim=-1)\n",
        "    clip_coef = target_norm / (grad_input_norm + 1e-6)  \n",
        "    clip_coef = clip_coef.unsqueeze(-1)\n",
        "    grad_input_ = clip_coef*grad_input_\n",
        "    print('-------modify gradnorm enabled--------')\n",
        "    print(grad_input)\n",
        "    print('grad_input norm(before):', grad_input_norm)\n",
        "    grad_input = (grad_input_.view(grad_input_shape),grad_input[1])\n",
        "    print('grad_input norm(after):', torch.norm(grad_input_,p=2,dim=-1))\n",
        "    return tuple(grad_input)"
      ]
    },
    {
      "cell_type": "markdown",
      "metadata": {
        "id": "aPBKgNLpJAZu"
      },
      "source": [
        "### Example (dummy hook)"
      ]
    },
    {
      "cell_type": "markdown",
      "source": [
        "Construct a toy **generator** that receives a (batch of) 3-dim latent code $z=[z_1,z_2,z_3]$, and output:   \n",
        "$\\qquad \\mathcal{G}(z)=[z_1,z_2,z_3] \\odot [w_1,w_2,w_3]+[b_1,b_2,b_3]$  \n",
        "&nbsp;   \n",
        "\n",
        "Construct a toy **discriminator** that receives a (batch of) \"generated samples\" $\\mathcal{G}(z)$, and output (the summation here is taken over the feature dimension):   \n",
        "$\\qquad \\mathcal{D}(\\mathcal{G}(z))=\\sum \\left(\\left([z_1,z_2,z_3] \\odot [w_1,w_2,w_3]+[b_1,b_2,b_3]\\right)\\cdot d^{param 1}+[d_1^{param 2},d_2^{param 2},d_3^{param 2}]\\right)\\cdot d^{param 3}$    \n",
        "&nbsp;   \n",
        "\n",
        "And the loss (averaged over the batch) should be ($N$ is the number of samples, and the summation here is taken over the samples within a batch):   \n",
        "$\\qquad \\mathcal{L} =\\frac{1}{N}\\sum_{i=1}^N \\mathcal{D}(\\mathcal{G}(z^i))$    \n",
        "&nbsp;  \n",
        "\n",
        "Compute by-hand, the gradients should be:   \n",
        "$\\qquad \\nabla_\\mathbf{w}\\mathcal{L}=\\frac{d^{param 1}\\cdot d^{param 3}}{N} \\sum_{i=1}^N [z^i_1,z^i_2,z^i_3]$   \n",
        "$\\qquad \\nabla_\\mathbf{b}\\mathcal{L}=d^{param 1}\\cdot d^{param 3}\\cdot [1,1,1]$"
      ],
      "metadata": {
        "id": "RaVm03UuzcTm"
      }
    },
    {
      "cell_type": "code",
      "execution_count": 7,
      "metadata": {
        "colab": {
          "base_uri": "https://localhost:8080/"
        },
        "id": "6kFLKg9nJAZv",
        "outputId": "338b2a62-4769-418c-d657-96005f31241f"
      },
      "outputs": [
        {
          "output_type": "stream",
          "name": "stderr",
          "text": [
            "/usr/local/lib/python3.7/dist-packages/torch/nn/modules/module.py:1053: UserWarning: Using a non-full backward hook when the forward contains multiple autograd Nodes is deprecated and will be removed in future versions. This hook will be missing some grad_input. Please use register_full_backward_hook to get the documented behavior.\n",
            "  warnings.warn(\"Using a non-full backward hook when the forward contains multiple autograd Nodes \"\n"
          ]
        }
      ],
      "source": [
        "## construct a toy 'Generator'\n",
        "z = torch.tensor([[1,2,1.5],[2,0,2.5],[-1,-1,-1.5], [0.5,-0.5,1]])  # dim0(sample idx), dim1(feature idx)\n",
        "g_weights = torch.tensor([1.,-1.,1.])\n",
        "g_bias = torch.tensor([0,1.,1.])\n",
        "g_weights.requires_grad=True\n",
        "g_bias.requires_grad=True\n",
        "G_layer1 = toy_single('mul', g_weights)\n",
        "G_layer2 = toy_single('add', g_bias)\n",
        "G_layer1.register_backward_hook(dummygrad_module)\n",
        "G_layer2.register_backward_hook(dummygrad_module)\n",
        "G_out = G_layer2(G_layer1(z))  # G_out is the toy 'generated samples'\n",
        "optimizerG = optim.SGD([g_weights,g_bias], lr=0.5)\n",
        "\n",
        "## construct a toy 'Discriminator'\n",
        "d_param_1 = torch.tensor(2.)\n",
        "d_param_2 = torch.tensor([-2.,2.,1.])\n",
        "d_param_3 = torch.tensor(-1.)\n",
        "d_param_1.requires_grad = False\n",
        "d_param_2.requires_grad = False\n",
        "d_param_3.requires_grad = False\n",
        "D_layer1 = toy_single('mul', d_param_1)\n",
        "D_layer2 = toy_single('add', d_param_2)\n",
        "D_layer3 = toy_single('mul', d_param_3)\n",
        "D_layer2.register_backward_hook(dummygrad_module)\n",
        "D_layer3.register_backward_hook(dummygrad_module)\n",
        "D_layer1.register_backward_hook(dynamic_hook_module)\n",
        "D_out = D_layer3(D_layer2(D_layer1(G_out))).sum(dim=1) # D_out mimics the (negated) per_sample loss for generator\n",
        "global_backward_hook = printgrad_module"
      ]
    },
    {
      "cell_type": "code",
      "execution_count": 8,
      "metadata": {
        "colab": {
          "base_uri": "https://localhost:8080/"
        },
        "id": "XPmaR3exJAZx",
        "outputId": "4913e1d7-34c9-4477-a09b-f46d4c2c3602"
      },
      "outputs": [
        {
          "output_type": "stream",
          "name": "stdout",
          "text": [
            "-------print grad enabled--------\n",
            "(tensor([[-0.5000, -0.5000, -0.5000],\n",
            "        [-0.5000, -0.5000, -0.5000],\n",
            "        [-0.5000, -0.5000, -0.5000],\n",
            "        [-0.5000, -0.5000, -0.5000]]), None)\n",
            "============grad============\n",
            "tensor([-1.2500, -0.2500, -1.7500]) tensor([-2., -2., -2.])\n",
            "============value(before)===========\n",
            "tensor([ 1., -1.,  1.], requires_grad=True) tensor([0., 1., 1.], requires_grad=True)\n",
            "============value(after)===========\n",
            "tensor([ 1.6250, -0.8750,  1.8750], requires_grad=True) tensor([1., 2., 2.], requires_grad=True)\n"
          ]
        }
      ],
      "source": [
        "### check gradients on leaf nodes\n",
        "D_out.mean().backward()\n",
        "print('============grad============')\n",
        "print(g_weights.grad, g_bias.grad) \n",
        "print('============value(before)===========')\n",
        "print(g_weights,g_bias)\n",
        "optimizerG.step()\n",
        "print('============value(after)===========')\n",
        "print(g_weights,g_bias)"
      ]
    },
    {
      "cell_type": "markdown",
      "metadata": {
        "id": "3VjKvq21JAZx"
      },
      "source": [
        "### Example (modify grad_norm)"
      ]
    },
    {
      "cell_type": "markdown",
      "source": [
        "Recall the formulation of the toy **generator** , **discriminator**, and the loss:   \n",
        "$\\qquad \\mathcal{G}(z)=[z_1,z_2,z_3] \\odot [w_1,w_2,w_3]+[b_1,b_2,b_3]$  \n",
        "$\\qquad \\mathcal{D}(\\mathcal{G}(z))=\\sum \\left(\\left([z_1,z_2,z_3] \\odot [w_1,w_2,w_3]+[b_1,b_2,b_3]\\right)\\cdot d^{param 1}+[d_1^{param 2},d_2^{param 2},d_3^{param 2}]\\right)\\cdot d^{param 3}$    \n",
        "$\\qquad \\mathcal{L} =\\frac{1}{N}\\sum_{i=1}^N \\mathcal{D}(\\mathcal{G}(z^i))$    \n",
        "&nbsp;  \n",
        "\n",
        "For each generated sample the gradient of the loss w.r.t. it (which we modify) is:  \n",
        "$\\qquad \\nabla_{\\mathcal{G}(z)}\\mathcal{L}=\\frac{d^{param 1}\\cdot d^{param 3}}{N} \\cdot [1,1,1]$   \n",
        "After the modification, this gradient should be (\"factor\" means the muliplication factor for changing the gradient norm)  \n",
        "$\\qquad \\nabla_{\\mathcal{G}(z)}\\widehat{\\mathcal{L}}=\\text{factor}\\cdot\\frac{d^{param 1}\\cdot d^{param 3}}{N} \\cdot [1,1,1]$  \n",
        "\n",
        "We also need the following Jacobian to compute the parameter gradients by-hand:  \n",
        "$\\qquad J_\\mathbf{w}(\\mathcal{G}(z))=\\begin{bmatrix} z_1 & 0& 0 \\\\ \n",
        "0 & z_2 & 0 \\\\\n",
        "0 & 0 & z_3 \\end{bmatrix}$  \n",
        "$\\qquad J_\\mathbf{b}(\\mathcal{G}(z))=\\begin{bmatrix} 1 & 0& 0 \\\\ \n",
        "0 & 1 & 0 \\\\\n",
        "0 & 0 & 1 \\end{bmatrix}$  \n",
        "\n",
        "Thus, we have:  \n",
        "$\\qquad \\nabla_\\mathbf{w}\\mathcal{L}=\\nabla_{\\mathcal{G}(z)}\\widehat{\\mathcal{L}} \\cdot J_\\mathbf{w}(\\mathcal{G}(z)) = \\frac{d^{param 1}\\cdot d^{param 3}}{N} \\sum_{i=1}^N \\text{factor}^i \\cdot[z^i_1,z^i_2,z^i_3]$   \n",
        "$\\qquad \\nabla_\\mathbf{b}\\mathcal{L}=\\nabla_{\\mathcal{G}(z)}\\widehat{\\mathcal{L}} \\cdot J_\\mathbf{b}(\\mathcal{G}(z))=d^{param 1}\\cdot d^{param 3}\\cdot [1,1,1] \\cdot  \\sum_{i=1}^N\\text{factor}^i $"
      ],
      "metadata": {
        "id": "YYL2wVqP-BA2"
      }
    },
    {
      "cell_type": "code",
      "execution_count": 9,
      "metadata": {
        "id": "tWvPaDx5JAZy"
      },
      "outputs": [],
      "source": [
        "## construct a toy 'Generator'\n",
        "z = torch.tensor([[1,2,1.5],[2,0,2.5],[-1,-1,-1.5], [0.5,-0.5,1]])  # dim0(sample idx), dim1(feature idx)\n",
        "g_weights = torch.tensor([1.,-1.,1.])\n",
        "g_bias = torch.tensor([0,1.,1.])\n",
        "g_weights.requires_grad=True\n",
        "g_bias.requires_grad=True\n",
        "G_layer1 = toy_single('mul', g_weights)\n",
        "G_layer2 = toy_single('add', g_bias)\n",
        "G_layer1.register_backward_hook(dummygrad_module)\n",
        "G_layer2.register_backward_hook(dummygrad_module)\n",
        "G_out = G_layer2(G_layer1(z))  # G_out is the toy 'generated samples'\n",
        "optimizerG = optim.SGD([g_weights,g_bias], lr=0.5)\n",
        "\n",
        "## construct a toy 'Discriminator'\n",
        "d_param_1 = torch.tensor(2.)\n",
        "d_param_2 = torch.tensor([-2.,2.,1.])\n",
        "d_param_3 = torch.tensor(-1.)\n",
        "d_param_1.requires_grad = False\n",
        "d_param_2.requires_grad = False\n",
        "d_param_3.requires_grad = False\n",
        "D_layer1 = toy_single('mul', d_param_1)\n",
        "D_layer2 = toy_single('add', d_param_2)\n",
        "D_layer3 = toy_single('mul', d_param_3)\n",
        "D_layer2.register_backward_hook(dummygrad_module)\n",
        "D_layer3.register_backward_hook(dummygrad_module)\n",
        "D_layer1.register_backward_hook(dynamic_hook_module)\n",
        "D_out = D_layer3(D_layer2(D_layer1(G_out))).sum(dim=1) # D_out mimics the (negated) per_sample loss for generator\n",
        "global_backward_hook = printgrad_module\n",
        "\n",
        "## modify the grad_norm\n",
        "target_norm = 1.\n",
        "global_backward_hook = modifygradnorm_module"
      ]
    },
    {
      "cell_type": "code",
      "execution_count": 10,
      "metadata": {
        "colab": {
          "base_uri": "https://localhost:8080/"
        },
        "id": "Mq9SGWhcJAZz",
        "outputId": "fc0596dd-d305-49df-8c81-8af3adfa27e0"
      },
      "outputs": [
        {
          "output_type": "stream",
          "name": "stdout",
          "text": [
            "-------modify gradnorm enabled--------\n",
            "(tensor([[-0.5000, -0.5000, -0.5000],\n",
            "        [-0.5000, -0.5000, -0.5000],\n",
            "        [-0.5000, -0.5000, -0.5000],\n",
            "        [-0.5000, -0.5000, -0.5000]]), None)\n",
            "grad_input norm(before): tensor([0.8660, 0.8660, 0.8660, 0.8660])\n",
            "grad_input norm(after): tensor([1.0000, 1.0000, 1.0000, 1.0000])\n",
            "============grad============\n",
            "tensor([-1.4434, -0.2887, -2.0207]) tensor([-2.3094, -2.3094, -2.3094])\n",
            "============value(before)===========\n",
            "tensor([ 1., -1.,  1.], requires_grad=True) tensor([0., 1., 1.], requires_grad=True)\n",
            "============value(after)===========\n",
            "tensor([ 1.7217, -0.8557,  2.0104], requires_grad=True) tensor([1.1547, 2.1547, 2.1547], requires_grad=True)\n"
          ]
        }
      ],
      "source": [
        "### check gradients on leaf nodes\n",
        "D_out.mean().backward()\n",
        "print('============grad============')\n",
        "print(g_weights.grad, g_bias.grad)\n",
        "print('============value(before)===========')\n",
        "print(g_weights,g_bias)\n",
        "optimizerG.step()\n",
        "print('============value(after)===========')\n",
        "print(g_weights,g_bias)"
      ]
    }
  ],
  "metadata": {
    "kernelspec": {
      "display_name": "both",
      "language": "python",
      "name": "both"
    },
    "language_info": {
      "codemirror_mode": {
        "name": "ipython",
        "version": 3
      },
      "file_extension": ".py",
      "mimetype": "text/x-python",
      "name": "python",
      "nbconvert_exporter": "python",
      "pygments_lexer": "ipython3",
      "version": "3.6.10"
    },
    "colab": {
      "provenance": [],
      "collapsed_sections": [],
      "include_colab_link": true
    }
  },
  "nbformat": 4,
  "nbformat_minor": 0
}